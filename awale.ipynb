{
 "cells": [
  {
   "cell_type": "code",
   "id": "initial_id",
   "metadata": {
    "collapsed": true,
    "ExecuteTime": {
     "end_time": "2024-10-14T14:25:04.269698Z",
     "start_time": "2024-10-14T14:25:04.263929Z"
    }
   },
   "source": [
    "class Awale:\n",
    "    def __init__(self):\n",
    "        # Initialise le plateau avec 4 graines dans chaque trou\n",
    "        self.board = [4] * 12\n",
    "        # Initialise les scores des deux joueurs à 0\n",
    "        self.scores = [0, 0]\n",
    "        # Le joueur 0 commence\n",
    "        self.current_player = 0\n",
    "\n",
    "    def is_valid_move(self, pit):\n",
    "        # Vérifie si le coup est valide :\n",
    "        # - Le trou doit être du côté du joueur actuel\n",
    "        # - Le trou ne doit pas être vide\n",
    "        start = self.current_player * 6\n",
    "        return start <= pit < start + 6 and self.board[pit] > 0\n",
    "\n",
    "    def make_move(self, pit):\n",
    "        if not self.is_valid_move(pit):\n",
    "            return False\n",
    "\n",
    "        # Prend toutes les graines du trou choisi\n",
    "        seeds = self.board[pit]\n",
    "        self.board[pit] = 0\n",
    "        current_pit = pit\n",
    "\n",
    "        # Distribue les graines\n",
    "        while seeds > 0:\n",
    "            current_pit = (current_pit + 1) % 12\n",
    "            if current_pit != pit:  # On saute le trou de départ\n",
    "                self.board[current_pit] += 1\n",
    "                seeds -= 1\n",
    "\n",
    "        # Capture les graines si possible\n",
    "        self.capture(current_pit)\n",
    "        # Passe au joueur suivant\n",
    "        self.current_player = 1 - self.current_player\n",
    "        return True\n",
    "\n",
    "    def capture(self, last_pit):\n",
    "        # Détermine le côté de l'adversaire\n",
    "        opponent_side = (self.current_player + 1) % 2 * 6\n",
    "        # Capture tant qu'on est du côté adverse et que le trou contient 2 ou 3 graines\n",
    "        while opponent_side <= last_pit < opponent_side + 6 :\n",
    "            if self.board[last_pit] in [2, 3]:\n",
    "                self.scores[self.current_player] += self.board[last_pit]\n",
    "                self.board[last_pit] = 0\n",
    "                last_pit -= 1\n",
    "            else:\n",
    "                break\n",
    "\n",
    "    def is_game_over(self):\n",
    "        # Le jeu est terminé si un joueur a plus de la moitié des graines\n",
    "        if max(self.scores) > 24:\n",
    "            return True\n",
    "        # Ou si le joueur actuel n'a plus de coups possibles\n",
    "        for i in range(6):\n",
    "            if self.board[self.current_player * 6 + i] > 0:\n",
    "                return False\n",
    "        return True\n",
    "\n",
    "    def get_winner(self):\n",
    "        if self.scores[0] > self.scores[1]:\n",
    "            return 0\n",
    "        elif self.scores[1] > self.scores[0]:\n",
    "            return 1\n",
    "        else:\n",
    "            return -1  # Match nul\n",
    "\n",
    "    def print_board(self):\n",
    "        # Affiche le plateau de jeu\n",
    "        print(\"  \", end=\"\")\n",
    "        for i in range(11, 5, -1):\n",
    "            print(f\"{self.board[i]:2d}\", end=\" \")\n",
    "        print(\"\\n\", self.scores[1])\n",
    "        print(self.scores[0])\n",
    "        print(\"  \", end=\"\")\n",
    "        for i in range(6):\n",
    "            print(f\"{self.board[i]:2d}\", end=\" \")\n",
    "        print()\n",
    "\n"
   ],
   "outputs": [],
   "execution_count": 3
  },
  {
   "metadata": {
    "ExecuteTime": {
     "end_time": "2024-10-14T14:25:10.334954Z",
     "start_time": "2024-10-14T14:25:10.332498Z"
    }
   },
   "cell_type": "code",
   "source": [
    "def play_game():\n",
    "    game = Awale()\n",
    "    while not game.is_game_over():\n",
    "        game.print_board()\n",
    "        print(f\"Tour du joueur {game.current_player + 1}\")\n",
    "        move = int(input(\"Entrez votre coup (0-5): \"))\n",
    "        if game.make_move(game.current_player * 6 + move):\n",
    "            print(\"Coup valide\")\n",
    "        else:\n",
    "            print(\"Coup invalide, réessayez\")\n",
    "\n",
    "    game.print_board()\n",
    "    winner = game.get_winner()\n",
    "    if winner == -1:\n",
    "        print(\"Match nul !\")\n",
    "    else:\n",
    "        print(f\"Le joueur {winner + 1} gagne !\")\n"
   ],
   "id": "4daaa2da4d1505ce",
   "outputs": [],
   "execution_count": 4
  },
  {
   "metadata": {
    "ExecuteTime": {
     "end_time": "2024-10-14T14:26:19.202703Z",
     "start_time": "2024-10-14T14:25:22.829976Z"
    }
   },
   "cell_type": "code",
   "source": "play_game()",
   "id": "c93ac9e32660b213",
   "outputs": [
    {
     "name": "stdout",
     "output_type": "stream",
     "text": [
      "   4  4  4  4  4  4 \n",
      " 0\n",
      "0\n",
      "   4  4  4  4  4  4 \n",
      "Tour du joueur 1\n",
      "Coup valide\n",
      "   4  4  4  4  4  4 \n",
      " 0\n",
      "0\n",
      "   4  0  5  5  5  5 \n",
      "Tour du joueur 2\n",
      "Coup valide\n",
      "   5  5  5  0  4  4 \n",
      " 0\n",
      "0\n",
      "   5  0  5  5  5  5 \n",
      "Tour du joueur 1\n",
      "Coup valide\n",
      "   5  5  5  1  5  5 \n",
      " 0\n",
      "0\n",
      "   5  0  5  0  6  6 \n",
      "Tour du joueur 2\n",
      "Coup valide\n",
      "   6  6  0  1  5  5 \n",
      " 0\n",
      "0\n",
      "   6  1  6  0  6  6 \n",
      "Tour du joueur 1\n",
      "Coup valide\n",
      "   7  7  1  2  6  6 \n",
      " 0\n",
      "0\n",
      "   6  1  6  0  6  0 \n",
      "Tour du joueur 2\n",
      "Coup valide\n",
      "   8  8  2  3  0  6 \n",
      " 2\n",
      "0\n",
      "   7  0  6  0  6  0 \n",
      "Tour du joueur 1\n"
     ]
    },
    {
     "ename": "KeyboardInterrupt",
     "evalue": "Interrupted by user",
     "output_type": "error",
     "traceback": [
      "\u001B[0;31m---------------------------------------------------------------------------\u001B[0m",
      "\u001B[0;31mKeyboardInterrupt\u001B[0m                         Traceback (most recent call last)",
      "Cell \u001B[0;32mIn[5], line 1\u001B[0m\n\u001B[0;32m----> 1\u001B[0m \u001B[43mplay_game\u001B[49m\u001B[43m(\u001B[49m\u001B[43m)\u001B[49m\n",
      "Cell \u001B[0;32mIn[4], line 6\u001B[0m, in \u001B[0;36mplay_game\u001B[0;34m()\u001B[0m\n\u001B[1;32m      4\u001B[0m game\u001B[38;5;241m.\u001B[39mprint_board()\n\u001B[1;32m      5\u001B[0m \u001B[38;5;28mprint\u001B[39m(\u001B[38;5;124mf\u001B[39m\u001B[38;5;124m\"\u001B[39m\u001B[38;5;124mTour du joueur \u001B[39m\u001B[38;5;132;01m{\u001B[39;00mgame\u001B[38;5;241m.\u001B[39mcurrent_player\u001B[38;5;250m \u001B[39m\u001B[38;5;241m+\u001B[39m\u001B[38;5;250m \u001B[39m\u001B[38;5;241m1\u001B[39m\u001B[38;5;132;01m}\u001B[39;00m\u001B[38;5;124m\"\u001B[39m)\n\u001B[0;32m----> 6\u001B[0m move \u001B[38;5;241m=\u001B[39m \u001B[38;5;28mint\u001B[39m(\u001B[38;5;28;43minput\u001B[39;49m\u001B[43m(\u001B[49m\u001B[38;5;124;43m\"\u001B[39;49m\u001B[38;5;124;43mEntrez votre coup (0-5): \u001B[39;49m\u001B[38;5;124;43m\"\u001B[39;49m\u001B[43m)\u001B[49m)\n\u001B[1;32m      7\u001B[0m \u001B[38;5;28;01mif\u001B[39;00m game\u001B[38;5;241m.\u001B[39mmake_move(game\u001B[38;5;241m.\u001B[39mcurrent_player \u001B[38;5;241m*\u001B[39m \u001B[38;5;241m6\u001B[39m \u001B[38;5;241m+\u001B[39m move):\n\u001B[1;32m      8\u001B[0m     \u001B[38;5;28mprint\u001B[39m(\u001B[38;5;124m\"\u001B[39m\u001B[38;5;124mCoup valide\u001B[39m\u001B[38;5;124m\"\u001B[39m)\n",
      "File \u001B[0;32m/opt/miniconda3/envs/awale/lib/python3.11/site-packages/ipykernel/kernelbase.py:1282\u001B[0m, in \u001B[0;36mKernel.raw_input\u001B[0;34m(self, prompt)\u001B[0m\n\u001B[1;32m   1280\u001B[0m     msg \u001B[38;5;241m=\u001B[39m \u001B[38;5;124m\"\u001B[39m\u001B[38;5;124mraw_input was called, but this frontend does not support input requests.\u001B[39m\u001B[38;5;124m\"\u001B[39m\n\u001B[1;32m   1281\u001B[0m     \u001B[38;5;28;01mraise\u001B[39;00m StdinNotImplementedError(msg)\n\u001B[0;32m-> 1282\u001B[0m \u001B[38;5;28;01mreturn\u001B[39;00m \u001B[38;5;28;43mself\u001B[39;49m\u001B[38;5;241;43m.\u001B[39;49m\u001B[43m_input_request\u001B[49m\u001B[43m(\u001B[49m\n\u001B[1;32m   1283\u001B[0m \u001B[43m    \u001B[49m\u001B[38;5;28;43mstr\u001B[39;49m\u001B[43m(\u001B[49m\u001B[43mprompt\u001B[49m\u001B[43m)\u001B[49m\u001B[43m,\u001B[49m\n\u001B[1;32m   1284\u001B[0m \u001B[43m    \u001B[49m\u001B[38;5;28;43mself\u001B[39;49m\u001B[38;5;241;43m.\u001B[39;49m\u001B[43m_parent_ident\u001B[49m\u001B[43m[\u001B[49m\u001B[38;5;124;43m\"\u001B[39;49m\u001B[38;5;124;43mshell\u001B[39;49m\u001B[38;5;124;43m\"\u001B[39;49m\u001B[43m]\u001B[49m\u001B[43m,\u001B[49m\n\u001B[1;32m   1285\u001B[0m \u001B[43m    \u001B[49m\u001B[38;5;28;43mself\u001B[39;49m\u001B[38;5;241;43m.\u001B[39;49m\u001B[43mget_parent\u001B[49m\u001B[43m(\u001B[49m\u001B[38;5;124;43m\"\u001B[39;49m\u001B[38;5;124;43mshell\u001B[39;49m\u001B[38;5;124;43m\"\u001B[39;49m\u001B[43m)\u001B[49m\u001B[43m,\u001B[49m\n\u001B[1;32m   1286\u001B[0m \u001B[43m    \u001B[49m\u001B[43mpassword\u001B[49m\u001B[38;5;241;43m=\u001B[39;49m\u001B[38;5;28;43;01mFalse\u001B[39;49;00m\u001B[43m,\u001B[49m\n\u001B[1;32m   1287\u001B[0m \u001B[43m\u001B[49m\u001B[43m)\u001B[49m\n",
      "File \u001B[0;32m/opt/miniconda3/envs/awale/lib/python3.11/site-packages/ipykernel/kernelbase.py:1325\u001B[0m, in \u001B[0;36mKernel._input_request\u001B[0;34m(self, prompt, ident, parent, password)\u001B[0m\n\u001B[1;32m   1322\u001B[0m \u001B[38;5;28;01mexcept\u001B[39;00m \u001B[38;5;167;01mKeyboardInterrupt\u001B[39;00m:\n\u001B[1;32m   1323\u001B[0m     \u001B[38;5;66;03m# re-raise KeyboardInterrupt, to truncate traceback\u001B[39;00m\n\u001B[1;32m   1324\u001B[0m     msg \u001B[38;5;241m=\u001B[39m \u001B[38;5;124m\"\u001B[39m\u001B[38;5;124mInterrupted by user\u001B[39m\u001B[38;5;124m\"\u001B[39m\n\u001B[0;32m-> 1325\u001B[0m     \u001B[38;5;28;01mraise\u001B[39;00m \u001B[38;5;167;01mKeyboardInterrupt\u001B[39;00m(msg) \u001B[38;5;28;01mfrom\u001B[39;00m \u001B[38;5;28;01mNone\u001B[39;00m\n\u001B[1;32m   1326\u001B[0m \u001B[38;5;28;01mexcept\u001B[39;00m \u001B[38;5;167;01mException\u001B[39;00m:\n\u001B[1;32m   1327\u001B[0m     \u001B[38;5;28mself\u001B[39m\u001B[38;5;241m.\u001B[39mlog\u001B[38;5;241m.\u001B[39mwarning(\u001B[38;5;124m\"\u001B[39m\u001B[38;5;124mInvalid Message:\u001B[39m\u001B[38;5;124m\"\u001B[39m, exc_info\u001B[38;5;241m=\u001B[39m\u001B[38;5;28;01mTrue\u001B[39;00m)\n",
      "\u001B[0;31mKeyboardInterrupt\u001B[0m: Interrupted by user"
     ]
    }
   ],
   "execution_count": 5
  },
  {
   "metadata": {},
   "cell_type": "code",
   "outputs": [],
   "execution_count": null,
   "source": "",
   "id": "c0a579a03cb1b607"
  }
 ],
 "metadata": {
  "kernelspec": {
   "display_name": "Python 3",
   "language": "python",
   "name": "python3"
  },
  "language_info": {
   "codemirror_mode": {
    "name": "ipython",
    "version": 2
   },
   "file_extension": ".py",
   "mimetype": "text/x-python",
   "name": "python",
   "nbconvert_exporter": "python",
   "pygments_lexer": "ipython2",
   "version": "2.7.6"
  }
 },
 "nbformat": 4,
 "nbformat_minor": 5
}
