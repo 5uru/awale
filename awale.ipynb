{
 "cells": [
  {
   "cell_type": "code",
   "id": "initial_id",
   "metadata": {
    "collapsed": true,
    "ExecuteTime": {
     "end_time": "2024-12-06T19:15:12.985793Z",
     "start_time": "2024-12-06T19:15:11.584155Z"
    }
   },
   "source": [
    "import mlx.core as mx\n",
    "\n"
   ],
   "outputs": [],
   "execution_count": 1
  },
  {
   "metadata": {
    "ExecuteTime": {
     "end_time": "2024-12-06T19:15:31.604486Z",
     "start_time": "2024-12-06T19:15:31.598282Z"
    }
   },
   "cell_type": "code",
   "source": "mx.random.uniform( )",
   "id": "de00f97cd973d147",
   "outputs": [
    {
     "data": {
      "text/plain": [
       "array(0.276248, dtype=float32)"
      ]
     },
     "execution_count": 3,
     "metadata": {},
     "output_type": "execute_result"
    }
   ],
   "execution_count": 3
  },
  {
   "metadata": {
    "ExecuteTime": {
     "end_time": "2024-12-06T19:16:49.094170Z",
     "start_time": "2024-12-06T19:16:49.075144Z"
    }
   },
   "cell_type": "code",
   "source": "mx.full(12 , 4 , dtype=mx.int8)",
   "id": "dc24097b1017395",
   "outputs": [
    {
     "data": {
      "text/plain": [
       "array([4, 4, 4, ..., 4, 4, 4], dtype=int8)"
      ]
     },
     "execution_count": 4,
     "metadata": {},
     "output_type": "execute_result"
    }
   ],
   "execution_count": 4
  },
  {
   "metadata": {
    "ExecuteTime": {
     "end_time": "2024-12-06T19:17:22.654910Z",
     "start_time": "2024-12-06T19:17:22.651895Z"
    }
   },
   "cell_type": "code",
   "source": "current_player = (mx.random.uniform( ) > 0.5).astype(mx.int8)",
   "id": "735c0e85c64195c0",
   "outputs": [],
   "execution_count": 5
  },
  {
   "metadata": {
    "ExecuteTime": {
     "end_time": "2024-12-06T19:17:24.128303Z",
     "start_time": "2024-12-06T19:17:24.113052Z"
    }
   },
   "cell_type": "code",
   "source": [
    "mx.where(\n",
    "        current_player == 0 ,\n",
    "        mx.array([ 0 , 1 , 2 , 3 , 4 , 5 ] , dtype=mx.int8) ,\n",
    "        mx.array([ 6 , 7 , 8 , 9 , 10 , 11 ] , dtype=mx.int8) ,\n",
    ")"
   ],
   "id": "bb8ce087e5a61e98",
   "outputs": [
    {
     "data": {
      "text/plain": [
       "array([6, 7, 8, 9, 10, 11], dtype=int8)"
      ]
     },
     "execution_count": 6,
     "metadata": {},
     "output_type": "execute_result"
    }
   ],
   "execution_count": 6
  },
  {
   "metadata": {
    "ExecuteTime": {
     "end_time": "2024-12-06T19:17:38.432418Z",
     "start_time": "2024-12-06T19:17:38.424038Z"
    }
   },
   "cell_type": "code",
   "source": " mx.zeros(2 , dtype=mx.int8)",
   "id": "dcb850a0f291785",
   "outputs": [
    {
     "data": {
      "text/plain": [
       "array([0, 0], dtype=int8)"
      ]
     },
     "execution_count": 7,
     "metadata": {},
     "output_type": "execute_result"
    }
   ],
   "execution_count": 7
  },
  {
   "metadata": {},
   "cell_type": "code",
   "outputs": [],
   "execution_count": null,
   "source": "",
   "id": "cb11d1c573cdc0d5"
  }
 ],
 "metadata": {
  "kernelspec": {
   "display_name": "Python 3",
   "language": "python",
   "name": "python3"
  },
  "language_info": {
   "codemirror_mode": {
    "name": "ipython",
    "version": 2
   },
   "file_extension": ".py",
   "mimetype": "text/x-python",
   "name": "python",
   "nbconvert_exporter": "python",
   "pygments_lexer": "ipython2",
   "version": "2.7.6"
  }
 },
 "nbformat": 4,
 "nbformat_minor": 5
}
