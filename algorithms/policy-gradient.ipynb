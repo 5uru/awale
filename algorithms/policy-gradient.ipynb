{
 "cells": [
  {
   "cell_type": "code",
   "id": "initial_id",
   "metadata": {
    "collapsed": true,
    "ExecuteTime": {
     "end_time": "2024-11-01T10:20:13.730202Z",
     "start_time": "2024-11-01T10:20:13.727580Z"
    }
   },
   "source": [
    "from model import AwaleNetwork\n",
    "import jax\n"
   ],
   "outputs": [],
   "execution_count": 3
  },
  {
   "metadata": {
    "ExecuteTime": {
     "end_time": "2024-11-01T10:22:45.245944Z",
     "start_time": "2024-11-01T10:22:44.402602Z"
    }
   },
   "cell_type": "code",
   "source": [
    "key = jax.random.PRNGKey(0)  # 0 est la graine pour PRNG\n",
    "policy_pi = AwaleNetwork(key=key)"
   ],
   "id": "a31d8212cbe23692",
   "outputs": [],
   "execution_count": 6
  },
  {
   "metadata": {
    "ExecuteTime": {
     "end_time": "2024-11-01T10:31:32.577623Z",
     "start_time": "2024-11-01T10:31:32.557689Z"
    }
   },
   "cell_type": "code",
   "source": "policy_pi.parameters( )",
   "id": "bc889dcba99f2e9",
   "outputs": [
    {
     "ename": "AttributeError",
     "evalue": "'AwaleNetwork' object has no attribute 'parameters'",
     "output_type": "error",
     "traceback": [
      "\u001B[0;31m---------------------------------------------------------------------------\u001B[0m",
      "\u001B[0;31mAttributeError\u001B[0m                            Traceback (most recent call last)",
      "Cell \u001B[0;32mIn[7], line 1\u001B[0m\n\u001B[0;32m----> 1\u001B[0m \u001B[43mpolicy_pi\u001B[49m\u001B[38;5;241;43m.\u001B[39;49m\u001B[43mparameters\u001B[49m()\n",
      "\u001B[0;31mAttributeError\u001B[0m: 'AwaleNetwork' object has no attribute 'parameters'"
     ]
    }
   ],
   "execution_count": 7
  },
  {
   "metadata": {},
   "cell_type": "code",
   "outputs": [],
   "execution_count": null,
   "source": "",
   "id": "e7375968d72101b3"
  }
 ],
 "metadata": {
  "kernelspec": {
   "display_name": "Python 3",
   "language": "python",
   "name": "python3"
  },
  "language_info": {
   "codemirror_mode": {
    "name": "ipython",
    "version": 2
   },
   "file_extension": ".py",
   "mimetype": "text/x-python",
   "name": "python",
   "nbconvert_exporter": "python",
   "pygments_lexer": "ipython2",
   "version": "2.7.6"
  }
 },
 "nbformat": 4,
 "nbformat_minor": 5
}
